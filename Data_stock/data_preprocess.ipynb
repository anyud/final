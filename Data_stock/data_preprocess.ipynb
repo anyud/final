{
 "cells": [
  {
   "cell_type": "code",
   "execution_count": 8,
   "metadata": {},
   "outputs": [],
   "source": [
    "import psycopg2\n",
    "from psycopg2 import sql"
   ]
  },
  {
   "cell_type": "code",
   "execution_count": 9,
   "metadata": {},
   "outputs": [
    {
     "name": "stdout",
     "output_type": "stream",
     "text": [
      "Table altered successfully\n"
     ]
    }
   ],
   "source": [
    "import psycopg2\n",
    "\n",
    "# Định nghĩa hàm để lấy kết nối\n",
    "def get_connection():\n",
    "    # Thông tin kết nối\n",
    "    db_name = \"thesis_stock\"\n",
    "    db_user = \"postgres\"\n",
    "    db_password = \"20272027\"\n",
    "    db_host = \"localhost\"\n",
    "    db_port = \"5432\"\n",
    "\n",
    "    # Chuỗi kết nối\n",
    "    connection_string = f\"dbname='{db_name}' user='{db_user}' password='{db_password}' host='{db_host}' port='{db_port}'\"\n",
    "    \n",
    "    return psycopg2.connect(connection_string)\n",
    "\n",
    "# Định nghĩa hàm để thực thi câu lệnh ALTER TABLE\n",
    "def alter_table():\n",
    "    connection = get_connection()\n",
    "    cursor = connection.cursor()\n",
    "    \n",
    "    alter_table_query = \"\"\"\n",
    "\n",
    "    SET search_path TO stock;\n",
    "\n",
    "    ALTER TABLE \"Dim_Date\"\n",
    "    ALTER COLUMN \"Date\"\n",
    "    SET DATA TYPE DATE;\n",
    "\n",
    "    ALTER TABLE \"Fact_Stock\"\n",
    "    ALTER COLUMN \"Date\"\n",
    "    SET DATA TYPE DATE;\n",
    "    \"\"\"\n",
    "    \n",
    "    try:\n",
    "        cursor.execute(alter_table_query)\n",
    "        connection.commit()\n",
    "        print(\"Table altered successfully\")\n",
    "    except Exception as error:\n",
    "        print(f\"Error altering table: {error}\")\n",
    "        connection.rollback()\n",
    "    finally:\n",
    "        cursor.close()\n",
    "        connection.close()\n",
    "\n",
    "# Gọi hàm để thực thi\n",
    "alter_table()\n"
   ]
  },
  {
   "cell_type": "code",
   "execution_count": null,
   "metadata": {},
   "outputs": [],
   "source": []
  }
 ],
 "metadata": {
  "kernelspec": {
   "display_name": "Python 3",
   "language": "python",
   "name": "python3"
  },
  "language_info": {
   "codemirror_mode": {
    "name": "ipython",
    "version": 3
   },
   "file_extension": ".py",
   "mimetype": "text/x-python",
   "name": "python",
   "nbconvert_exporter": "python",
   "pygments_lexer": "ipython3",
   "version": "3.12.3"
  },
  "orig_nbformat": 4
 },
 "nbformat": 4,
 "nbformat_minor": 2
}
