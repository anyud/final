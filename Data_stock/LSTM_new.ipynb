{
 "cells": [
  {
   "cell_type": "code",
   "execution_count": 279,
   "metadata": {},
   "outputs": [],
   "source": [
    "import numpy as np\n",
    "import pandas as pd\n",
    "from sklearn.preprocessing import MinMaxScaler\n",
    "from sklearn.model_selection import train_test_split\n",
    "import keras_tuner as kt\n",
    "from keras.models import Sequential\n",
    "from keras.layers import LSTM, Dense, Dropout\n",
    "from keras.callbacks import EarlyStopping\n",
    "import tensorflow as tf\n",
    "import joblib\n",
    "import matplotlib.pyplot as plt\n",
    "from statsmodels.tsa.stattools import adfuller\n",
    "import os\n",
    "import shutil\n"
   ]
  },
  {
   "cell_type": "code",
   "execution_count": 280,
   "metadata": {},
   "outputs": [
    {
     "data": {
      "text/plain": [
       "['D:\\\\Github anyud\\\\final\\\\Data_stock\\\\FPT_Processed.csv',\n",
       " 'D:\\\\Github anyud\\\\final\\\\Data_stock\\\\GOOGL_Processed.csv',\n",
       " 'D:\\\\Github anyud\\\\final\\\\Data_stock\\\\AAPL_Processed.csv',\n",
       " 'D:\\\\Github anyud\\\\final\\\\Data_stock\\\\ACB_Processed.csv',\n",
       " 'D:\\\\Github anyud\\\\final\\\\Data_stock\\\\BID_Processed.csv']"
      ]
     },
     "execution_count": 280,
     "metadata": {},
     "output_type": "execute_result"
    }
   ],
   "source": [
    "# Load all CSV files\n",
    "fpt_df = pd.read_csv('D:\\\\Github anyud\\\\final\\\\Data_stock\\\\FPT Historical Data.csv')\n",
    "googl_df = pd.read_csv('D:\\\\Github anyud\\\\final\\\\Data_stock\\\\GOOGL Historical Data.csv')\n",
    "aapl_df = pd.read_csv('D:\\\\Github anyud\\\\final\\\\Data_stock\\\\AAPL Historical Data.csv')\n",
    "acb_df = pd.read_csv('D:\\\\Github anyud\\\\final\\\\Data_stock\\\\ACB Historical Data.csv')\n",
    "bid_df = pd.read_csv('D:\\\\Github anyud\\\\final\\\\Data_stock\\\\BID Historical Data.csv')\n",
    "\n",
    "# Function to calculate the required columns for each dataset\n",
    "def process_data(df):\n",
    "    df['Date'] = pd.to_datetime(df['Date'], errors='coerce')\n",
    "    df = df.dropna(subset=['Date'])  # Drop rows where 'Date' is not valid\n",
    "    df = df.sort_values('Date')  # Sort by date in ascending order\n",
    "\n",
    "    df['Price'] = df['Price'].apply(lambda x: float(str(x).replace(',', '')))  # Convert 'Price' to numeric\n",
    "    \n",
    "    # Calculate 'price after diff'\n",
    "    df['Price After Diff'] = df['Price'].diff()\n",
    "\n",
    "    # Calculate moving averages\n",
    "    df['MA30 Before Diff'] = df['Price'].rolling(window=30).mean()\n",
    "    df['MA90 Before Diff'] = df['Price'].rolling(window=90).mean()\n",
    "\n",
    "    return df[['Date', 'Price', 'Price After Diff', 'MA30 Before Diff', 'MA90 Before Diff']]\n",
    "\n",
    "# Process all datasets\n",
    "fpt_processed = process_data(fpt_df)\n",
    "googl_processed = process_data(googl_df)\n",
    "aapl_processed = process_data(aapl_df)\n",
    "acb_processed = process_data(acb_df)\n",
    "bid_processed = process_data(bid_df)\n",
    "\n",
    "# Save the processed data to new CSV files\n",
    "fpt_processed.to_csv('D:\\\\Github anyud\\\\final\\\\Data_stock\\\\FPT_Processed.csv', index=False)\n",
    "googl_processed.to_csv('D:\\\\Github anyud\\\\final\\\\Data_stock\\\\GOOGL_Processed.csv', index=False)\n",
    "aapl_processed.to_csv('D:\\\\Github anyud\\\\final\\\\Data_stock\\\\AAPL_Processed.csv', index=False)\n",
    "acb_processed.to_csv('D:\\\\Github anyud\\\\final\\\\Data_stock\\\\ACB_Processed.csv', index=False)\n",
    "bid_processed.to_csv('D:\\\\Github anyud\\\\final\\\\Data_stock\\\\BID_Processed.csv', index=False)\n",
    "\n",
    "# Return the paths of the new files\n",
    "['D:\\\\Github anyud\\\\final\\\\Data_stock\\\\FPT_Processed.csv', 'D:\\\\Github anyud\\\\final\\\\Data_stock\\\\GOOGL_Processed.csv', 'D:\\\\Github anyud\\\\final\\\\Data_stock\\\\AAPL_Processed.csv', 'D:\\\\Github anyud\\\\final\\\\Data_stock\\\\ACB_Processed.csv', 'D:\\\\Github anyud\\\\final\\\\Data_stock\\\\BID_Processed.csv']"
   ]
  },
  {
   "cell_type": "code",
   "execution_count": 281,
   "metadata": {},
   "outputs": [],
   "source": [
    "acb_data = pd.read_csv(\"D:\\\\Github anyud\\\\final\\\\Data_stock\\\\ACB_Processed.csv\")\n",
    "aapl_data = pd.read_csv('D:\\\\Github anyud\\\\final\\\\Data_stock\\\\FPT_Processed.csv')\n",
    "bid_data = pd.read_csv('D:\\\\Github anyud\\\\final\\\\Data_stock\\\\BID_Processed.csv')\n",
    "fpt_data = pd.read_csv('D:\\\\Github anyud\\\\final\\\\Data_stock\\\\FPT_Processed.csv')\n",
    "googl_data = pd.read_csv('D:\\\\Github anyud\\\\final\\\\Data_stock\\\\GOOGL_Processed.csv')"
   ]
  },
  {
   "cell_type": "code",
   "execution_count": 282,
   "metadata": {},
   "outputs": [
    {
     "name": "stdout",
     "output_type": "stream",
     "text": [
      "(2431, 5)\n",
      "(2418, 5)\n",
      "(2418, 5)\n",
      "(2418, 5)\n",
      "(2440, 5)\n"
     ]
    }
   ],
   "source": [
    "print(acb_data.shape)\n",
    "print(aapl_data.shape)\n",
    "print(bid_data.shape)\n",
    "print(fpt_data.shape)\n",
    "print(googl_data.shape)"
   ]
  },
  {
   "cell_type": "code",
   "execution_count": 283,
   "metadata": {},
   "outputs": [],
   "source": [
    "# Split data into training and test sets (80% training, 20% test)\n",
    "def split_data(df):\n",
    "    train_size = int(len(df) * 0.8)\n",
    "    train_set = df.iloc[:train_size].copy()\n",
    "    test_set = df.iloc[train_size:].copy()\n",
    "    return train_set, test_set\n",
    "\n",
    "def normalize_selected_columns(train, test, columns):\n",
    "    scaler = MinMaxScaler()\n",
    "    \n",
    "    # Apply normalization to the selected columns, including 'Price'\n",
    "    train_scaled = train.copy()\n",
    "    test_scaled = test.copy()\n",
    "    \n",
    "    train_scaled[columns] = scaler.fit_transform(train[columns])\n",
    "    test_scaled[columns] = scaler.transform(test[columns])\n",
    "    \n",
    "    return train_scaled, test_scaled, scaler\n",
    "\n",
    "# Sequence generation for 'Price' only, keeping the other features unchanged\n",
    "def create_sequences(full_data, time_step=60):\n",
    "    X, y = [], []\n",
    "    \n",
    "    # Create sequences for the last 60 time steps\n",
    "    for i in range(time_step, len(full_data)):\n",
    "        # Sequence of the last 60 time steps for all features (including Price and others)\n",
    "        feature_sequence = full_data.iloc[i - time_step:i].values\n",
    "        \n",
    "        # Append the full sequence of shape (60, 4)\n",
    "        X.append(feature_sequence)\n",
    "        \n",
    "        # 'y' will be the current 'Price' value\n",
    "        y.append(full_data.iloc[i]['Price'])  # Current Price value as label\n",
    "    \n",
    "    # Convert labels to a 2D array with shape (n_samples, 1)\n",
    "    return np.array(X), np.array(y).reshape(-1, 1)"
   ]
  },
  {
   "cell_type": "code",
   "execution_count": 284,
   "metadata": {},
   "outputs": [],
   "source": [
    "from sklearn.preprocessing import MinMaxScaler\n",
    "\n",
    "\n",
    "# 2. Split the data\n",
    "aapl_train, aapl_test = split_data(aapl_data)\n",
    "\n",
    "\n",
    "# 3. Define the columns to normalize (excluding 'Price After Diff')\n",
    "columns_to_normalize = ['Price', 'MA30 Before Diff', 'MA90 Before Diff']\n",
    "\n",
    "# 4. Normalize the data (including the 'Price' column)\n",
    "aapl_train_normalized, aapl_test_normalized, scaler = normalize_selected_columns(aapl_train, aapl_test, columns_to_normalize)\n",
    "\n",
    "# 5. Select normalized columns for sequence generation (without 'Price After Diff')\n",
    "aapl_train_full = aapl_train_normalized[columns_to_normalize]\n",
    "aapl_test_full = aapl_test_normalized[columns_to_normalize]\n",
    "\n",
    "\n",
    "# 6. Create sequences for the training and test sets\n",
    "aapl_train_sequences, aapl_train_labels = create_sequences(aapl_train_full, time_step=60)\n",
    "aapl_test_sequences, aapl_test_labels = create_sequences(aapl_test_full, time_step=60)\n"
   ]
  },
  {
   "cell_type": "code",
   "execution_count": 285,
   "metadata": {},
   "outputs": [
    {
     "name": "stdout",
     "output_type": "stream",
     "text": [
      "Index(['Date', 'Price', 'Price After Diff', 'MA30 Before Diff',\n",
      "       'MA90 Before Diff'],\n",
      "      dtype='object')\n",
      "Index(['Date', 'Price', 'Price After Diff', 'MA30 Before Diff',\n",
      "       'MA90 Before Diff'],\n",
      "      dtype='object')\n"
     ]
    }
   ],
   "source": [
    "print(aapl_train.columns)\n",
    "print(aapl_test.columns)\n"
   ]
  },
  {
   "cell_type": "code",
   "execution_count": 286,
   "metadata": {},
   "outputs": [
    {
     "name": "stdout",
     "output_type": "stream",
     "text": [
      "Shape of training sequences: (1874, 60, 3)\n",
      "Shape of training labels: (1874, 1)\n",
      "Shape of test sequences: (424, 60, 3)\n",
      "Shape of test labels: (424, 1)\n"
     ]
    }
   ],
   "source": [
    "# 7. Print the shape of the resulting sequences and labels\n",
    "print(\"Shape of training sequences:\", aapl_train_sequences.shape)  # Expected: (num_samples, 60, num_features)\n",
    "print(\"Shape of training labels:\", aapl_train_labels.shape)        # Expected: (num_samples, 1)\n",
    "print(\"Shape of test sequences:\", aapl_test_sequences.shape)       # Expected: (num_samples, 60, num_features)\n",
    "print(\"Shape of test labels:\", aapl_test_labels.shape)             # Expected: (num_samples, 1)"
   ]
  },
  {
   "cell_type": "code",
   "execution_count": 287,
   "metadata": {},
   "outputs": [
    {
     "name": "stdout",
     "output_type": "stream",
     "text": [
      "0\n"
     ]
    }
   ],
   "source": [
    "# Forward fill NaN values in the sequences\n",
    "aapl_train_sequences = np.where(np.isnan(aapl_train_sequences), \n",
    "                                np.nanmean(aapl_train_sequences, axis=0), \n",
    "                                aapl_train_sequences)\n",
    "\n",
    "# Verify if NaNs are resolved\n",
    "print(np.isnan(aapl_train_sequences).sum())  # Should output 0\n"
   ]
  },
  {
   "cell_type": "code",
   "execution_count": 288,
   "metadata": {},
   "outputs": [
    {
     "name": "stdout",
     "output_type": "stream",
     "text": [
      "          0         1         2\n",
      "0  0.002668  0.264033  0.284803\n",
      "1  0.003558  0.264345  0.285194\n",
      "2  0.004447  0.264655  0.285583\n",
      "3  0.002965  0.264963  0.285971\n",
      "4  0.004150  0.265269  0.286358\n"
     ]
    }
   ],
   "source": [
    "# Find indices of sequences that contain NaNs\n",
    "nan_mask = np.any(np.isnan(aapl_train_sequences), axis=(1, 2))\n",
    "\n",
    "# Remove sequences with NaN values\n",
    "aapl_train_sequences_cleaned = aapl_train_sequences[~nan_mask]\n",
    "aapl_train_labels_cleaned = aapl_train_labels[~nan_mask]\n",
    "\n",
    "# Convert to a DataFrame for better readability\n",
    "import pandas as pd\n",
    "aapl_train_sequences_cleaned_df = pd.DataFrame(aapl_train_sequences_cleaned.reshape(-1, aapl_train_sequences_cleaned.shape[2]))\n",
    "\n",
    "# Display the first few rows of the cleaned sequence data\n",
    "print(aapl_train_sequences_cleaned_df.head())\n"
   ]
  },
  {
   "cell_type": "code",
   "execution_count": 289,
   "metadata": {},
   "outputs": [
    {
     "name": "stdout",
     "output_type": "stream",
     "text": [
      "[]\n"
     ]
    }
   ],
   "source": [
    "import numpy as np\n",
    "\n",
    "# Find the indices where NaNs are located in the sequences\n",
    "nan_indices = np.argwhere(np.isnan(aapl_train_sequences))\n",
    "\n",
    "# Display the first 10 NaN locations for inspection\n",
    "print(nan_indices[:10])\n",
    "\n",
    "# Optionally, you can also check the actual values at these indices\n",
    "for index in nan_indices[:10]:\n",
    "    print(f\"NaN found at sequence index: {index[0]}, time step: {index[1]}, feature: {index[2]}\")\n"
   ]
  },
  {
   "cell_type": "code",
   "execution_count": 290,
   "metadata": {},
   "outputs": [
    {
     "name": "stdout",
     "output_type": "stream",
     "text": [
      "0\n",
      "0\n"
     ]
    }
   ],
   "source": [
    "# # Fill NaN values with the mean of each feature across the sequences\n",
    "aapl_train_sequences = np.where(np.isnan(aapl_train_sequences), \n",
    "                                np.nanmean(aapl_train_sequences, axis=0), \n",
    "                                aapl_train_sequences)\n",
    "\n",
    "# Verify if there are any remaining NaN values\n",
    "print(np.isnan(aapl_train_sequences).sum())  # Should output 0 after filling\n",
    " # Check for NaNs in sequences\n",
    "print(np.isnan(aapl_train_labels).sum())     # Check for NaNs in labels\n"
   ]
  },
  {
   "cell_type": "code",
   "execution_count": 291,
   "metadata": {},
   "outputs": [
    {
     "name": "stdout",
     "output_type": "stream",
     "text": [
      "Reloading Tuner from tuning_dir\\fpt_tuning\\tuner0.json\n",
      "Search space summary\n",
      "Default search space size: 8\n",
      "num_layers (Int)\n",
      "{'default': None, 'conditions': [], 'min_value': 1, 'max_value': 3, 'step': 1, 'sampling': 'linear'}\n",
      "units_0 (Int)\n",
      "{'default': None, 'conditions': [], 'min_value': 32, 'max_value': 512, 'step': 32, 'sampling': 'linear'}\n",
      "dropout_0 (Float)\n",
      "{'default': 0.1, 'conditions': [], 'min_value': 0.1, 'max_value': 0.5, 'step': 0.1, 'sampling': 'linear'}\n",
      "learning_rate (Float)\n",
      "{'default': 0.001, 'conditions': [], 'min_value': 0.0001, 'max_value': 0.01, 'step': None, 'sampling': 'log'}\n",
      "units_1 (Int)\n",
      "{'default': None, 'conditions': [], 'min_value': 32, 'max_value': 512, 'step': 32, 'sampling': 'linear'}\n",
      "dropout_1 (Float)\n",
      "{'default': 0.1, 'conditions': [], 'min_value': 0.1, 'max_value': 0.5, 'step': 0.1, 'sampling': 'linear'}\n",
      "units_2 (Int)\n",
      "{'default': None, 'conditions': [], 'min_value': 32, 'max_value': 512, 'step': 32, 'sampling': 'linear'}\n",
      "dropout_2 (Float)\n",
      "{'default': 0.1, 'conditions': [], 'min_value': 0.1, 'max_value': 0.5, 'step': 0.1, 'sampling': 'linear'}\n"
     ]
    },
    {
     "name": "stderr",
     "output_type": "stream",
     "text": [
      "c:\\Users\\ADMIN\\AppData\\Local\\Programs\\Python\\Python312\\Lib\\site-packages\\keras\\src\\layers\\rnn\\rnn.py:204: UserWarning: Do not pass an `input_shape`/`input_dim` argument to a layer. When using Sequential models, prefer using an `Input(shape)` object as the first layer in the model instead.\n",
      "  super().__init__(**kwargs)\n",
      "c:\\Users\\ADMIN\\AppData\\Local\\Programs\\Python\\Python312\\Lib\\site-packages\\keras\\src\\saving\\saving_lib.py:713: UserWarning: Skipping variable loading for optimizer 'adam', because it has 2 variables whereas the saved optimizer has 18 variables. \n",
      "  saveable.load_own_variables(weights_store.get(inner_path))\n"
     ]
    },
    {
     "data": {
      "text/html": [
       "<pre style=\"white-space:pre;overflow-x:auto;line-height:normal;font-family:Menlo,'DejaVu Sans Mono',consolas,'Courier New',monospace\"><span style=\"font-weight: bold\">Model: \"sequential\"</span>\n",
       "</pre>\n"
      ],
      "text/plain": [
       "\u001b[1mModel: \"sequential\"\u001b[0m\n"
      ]
     },
     "metadata": {},
     "output_type": "display_data"
    },
    {
     "data": {
      "text/html": [
       "<pre style=\"white-space:pre;overflow-x:auto;line-height:normal;font-family:Menlo,'DejaVu Sans Mono',consolas,'Courier New',monospace\">┏━━━━━━━━━━━━━━━━━━━━━━━━━━━━━━━━━┳━━━━━━━━━━━━━━━━━━━━━━━━┳━━━━━━━━━━━━━━━┓\n",
       "┃<span style=\"font-weight: bold\"> Layer (type)                    </span>┃<span style=\"font-weight: bold\"> Output Shape           </span>┃<span style=\"font-weight: bold\">       Param # </span>┃\n",
       "┡━━━━━━━━━━━━━━━━━━━━━━━━━━━━━━━━━╇━━━━━━━━━━━━━━━━━━━━━━━━╇━━━━━━━━━━━━━━━┩\n",
       "│ lstm (<span style=\"color: #0087ff; text-decoration-color: #0087ff\">LSTM</span>)                     │ (<span style=\"color: #00d7ff; text-decoration-color: #00d7ff\">None</span>, <span style=\"color: #00af00; text-decoration-color: #00af00\">60</span>, <span style=\"color: #00af00; text-decoration-color: #00af00\">128</span>)        │        <span style=\"color: #00af00; text-decoration-color: #00af00\">67,584</span> │\n",
       "├─────────────────────────────────┼────────────────────────┼───────────────┤\n",
       "│ dropout (<span style=\"color: #0087ff; text-decoration-color: #0087ff\">Dropout</span>)               │ (<span style=\"color: #00d7ff; text-decoration-color: #00d7ff\">None</span>, <span style=\"color: #00af00; text-decoration-color: #00af00\">60</span>, <span style=\"color: #00af00; text-decoration-color: #00af00\">128</span>)        │             <span style=\"color: #00af00; text-decoration-color: #00af00\">0</span> │\n",
       "├─────────────────────────────────┼────────────────────────┼───────────────┤\n",
       "│ lstm_1 (<span style=\"color: #0087ff; text-decoration-color: #0087ff\">LSTM</span>)                   │ (<span style=\"color: #00d7ff; text-decoration-color: #00d7ff\">None</span>, <span style=\"color: #00af00; text-decoration-color: #00af00\">480</span>)            │     <span style=\"color: #00af00; text-decoration-color: #00af00\">1,169,280</span> │\n",
       "├─────────────────────────────────┼────────────────────────┼───────────────┤\n",
       "│ dropout_1 (<span style=\"color: #0087ff; text-decoration-color: #0087ff\">Dropout</span>)             │ (<span style=\"color: #00d7ff; text-decoration-color: #00d7ff\">None</span>, <span style=\"color: #00af00; text-decoration-color: #00af00\">480</span>)            │             <span style=\"color: #00af00; text-decoration-color: #00af00\">0</span> │\n",
       "├─────────────────────────────────┼────────────────────────┼───────────────┤\n",
       "│ dense (<span style=\"color: #0087ff; text-decoration-color: #0087ff\">Dense</span>)                   │ (<span style=\"color: #00d7ff; text-decoration-color: #00d7ff\">None</span>, <span style=\"color: #00af00; text-decoration-color: #00af00\">1</span>)              │           <span style=\"color: #00af00; text-decoration-color: #00af00\">481</span> │\n",
       "└─────────────────────────────────┴────────────────────────┴───────────────┘\n",
       "</pre>\n"
      ],
      "text/plain": [
       "┏━━━━━━━━━━━━━━━━━━━━━━━━━━━━━━━━━┳━━━━━━━━━━━━━━━━━━━━━━━━┳━━━━━━━━━━━━━━━┓\n",
       "┃\u001b[1m \u001b[0m\u001b[1mLayer (type)                   \u001b[0m\u001b[1m \u001b[0m┃\u001b[1m \u001b[0m\u001b[1mOutput Shape          \u001b[0m\u001b[1m \u001b[0m┃\u001b[1m \u001b[0m\u001b[1m      Param #\u001b[0m\u001b[1m \u001b[0m┃\n",
       "┡━━━━━━━━━━━━━━━━━━━━━━━━━━━━━━━━━╇━━━━━━━━━━━━━━━━━━━━━━━━╇━━━━━━━━━━━━━━━┩\n",
       "│ lstm (\u001b[38;5;33mLSTM\u001b[0m)                     │ (\u001b[38;5;45mNone\u001b[0m, \u001b[38;5;34m60\u001b[0m, \u001b[38;5;34m128\u001b[0m)        │        \u001b[38;5;34m67,584\u001b[0m │\n",
       "├─────────────────────────────────┼────────────────────────┼───────────────┤\n",
       "│ dropout (\u001b[38;5;33mDropout\u001b[0m)               │ (\u001b[38;5;45mNone\u001b[0m, \u001b[38;5;34m60\u001b[0m, \u001b[38;5;34m128\u001b[0m)        │             \u001b[38;5;34m0\u001b[0m │\n",
       "├─────────────────────────────────┼────────────────────────┼───────────────┤\n",
       "│ lstm_1 (\u001b[38;5;33mLSTM\u001b[0m)                   │ (\u001b[38;5;45mNone\u001b[0m, \u001b[38;5;34m480\u001b[0m)            │     \u001b[38;5;34m1,169,280\u001b[0m │\n",
       "├─────────────────────────────────┼────────────────────────┼───────────────┤\n",
       "│ dropout_1 (\u001b[38;5;33mDropout\u001b[0m)             │ (\u001b[38;5;45mNone\u001b[0m, \u001b[38;5;34m480\u001b[0m)            │             \u001b[38;5;34m0\u001b[0m │\n",
       "├─────────────────────────────────┼────────────────────────┼───────────────┤\n",
       "│ dense (\u001b[38;5;33mDense\u001b[0m)                   │ (\u001b[38;5;45mNone\u001b[0m, \u001b[38;5;34m1\u001b[0m)              │           \u001b[38;5;34m481\u001b[0m │\n",
       "└─────────────────────────────────┴────────────────────────┴───────────────┘\n"
      ]
     },
     "metadata": {},
     "output_type": "display_data"
    },
    {
     "data": {
      "text/html": [
       "<pre style=\"white-space:pre;overflow-x:auto;line-height:normal;font-family:Menlo,'DejaVu Sans Mono',consolas,'Courier New',monospace\"><span style=\"font-weight: bold\"> Total params: </span><span style=\"color: #00af00; text-decoration-color: #00af00\">1,237,345</span> (4.72 MB)\n",
       "</pre>\n"
      ],
      "text/plain": [
       "\u001b[1m Total params: \u001b[0m\u001b[38;5;34m1,237,345\u001b[0m (4.72 MB)\n"
      ]
     },
     "metadata": {},
     "output_type": "display_data"
    },
    {
     "data": {
      "text/html": [
       "<pre style=\"white-space:pre;overflow-x:auto;line-height:normal;font-family:Menlo,'DejaVu Sans Mono',consolas,'Courier New',monospace\"><span style=\"font-weight: bold\"> Trainable params: </span><span style=\"color: #00af00; text-decoration-color: #00af00\">1,237,345</span> (4.72 MB)\n",
       "</pre>\n"
      ],
      "text/plain": [
       "\u001b[1m Trainable params: \u001b[0m\u001b[38;5;34m1,237,345\u001b[0m (4.72 MB)\n"
      ]
     },
     "metadata": {},
     "output_type": "display_data"
    },
    {
     "data": {
      "text/html": [
       "<pre style=\"white-space:pre;overflow-x:auto;line-height:normal;font-family:Menlo,'DejaVu Sans Mono',consolas,'Courier New',monospace\"><span style=\"font-weight: bold\"> Non-trainable params: </span><span style=\"color: #00af00; text-decoration-color: #00af00\">0</span> (0.00 B)\n",
       "</pre>\n"
      ],
      "text/plain": [
       "\u001b[1m Non-trainable params: \u001b[0m\u001b[38;5;34m0\u001b[0m (0.00 B)\n"
      ]
     },
     "metadata": {},
     "output_type": "display_data"
    },
    {
     "name": "stdout",
     "output_type": "stream",
     "text": [
      "\u001b[1m14/14\u001b[0m \u001b[32m━━━━━━━━━━━━━━━━━━━━\u001b[0m\u001b[37m\u001b[0m \u001b[1m1s\u001b[0m 33ms/step - loss: 6.6041e-04\n",
      "Test loss of the best model: 0.0013592785689979792\n"
     ]
    }
   ],
   "source": [
    "import kerastuner as kt\n",
    "from tensorflow.keras.models import Sequential\n",
    "from tensorflow.keras.layers import LSTM, Dense, Dropout  # Ensure Dropout is imported\n",
    "from tensorflow.keras.optimizers import Adam\n",
    "import tensorflow as tf\n",
    "\n",
    "# HyperModel class to search for the best LSTM architecture\n",
    "class LSTMHyperModel(kt.HyperModel):\n",
    "    def build(self, hp):\n",
    "        model = Sequential()\n",
    "        \n",
    "        # Define the number of LSTM layers (1 to 3 layers)\n",
    "        for i in range(hp.Int('num_layers', 1, 3)):\n",
    "            model.add(LSTM(units=hp.Int(f'units_{i}', min_value=32, max_value=512, step=32), \n",
    "                           return_sequences=(i != hp.Int('num_layers', 1, 3) - 1),  # Only last LSTM doesn't return sequences\n",
    "                           input_shape=(time_steps, num_features)))\n",
    "            model.add(Dropout(hp.Float(f'dropout_{i}', min_value=0.1, max_value=0.5, step=0.1)))  # Dropout regularization\n",
    "\n",
    "        # Output layer for regression (predicting 1 value, the price)\n",
    "        model.add(Dense(1))\n",
    "\n",
    "        # Compile the model\n",
    "        model.compile(optimizer=Adam(\n",
    "                        hp.Float('learning_rate', min_value=1e-4, max_value=1e-2, sampling='LOG', default=1e-3)),\n",
    "                      loss='mean_squared_error')\n",
    "\n",
    "        return model\n",
    "\n",
    "# Define time steps and number of features based on your sequence data\n",
    "time_steps = 60  # For example, you have 60 time steps\n",
    "num_features = 3  # Number of features ('Price', 'Price After Diff', 'MA30 Before Diff', 'MA90 Before Diff')\n",
    "\n",
    "# Instantiate the hypermodel\n",
    "hypermodel = LSTMHyperModel()\n",
    "\n",
    "# Set up the Keras Tuner (using RandomSearch or Hyperband)\n",
    "tuner = kt.RandomSearch(\n",
    "    hypermodel,\n",
    "    objective='val_loss',  # Minimize validation loss\n",
    "    max_trials=10,         # Number of hyperparameter combinations to try\n",
    "    executions_per_trial=1, # How many models to train per trial for more robustness\n",
    "    directory='tuning_dir', # Where to save tuning results\n",
    "    project_name='fpt_tuning' # Name of the tuning project\n",
    ")\n",
    "\n",
    "# Print a summary of the search space\n",
    "tuner.search_space_summary()\n",
    "\n",
    "# Start the hyperparameter search\n",
    "tuner.search(aapl_train_sequences_cleaned, aapl_train_labels_cleaned, \n",
    "             epochs=20, \n",
    "             batch_size=32, \n",
    "             validation_split=0.2)\n",
    "\n",
    "# Retrieve the best model\n",
    "best_model = tuner.get_best_models(num_models=1)[0]\n",
    "\n",
    "# Print a summary of the best model\n",
    "best_model.summary()\n",
    "\n",
    "# Evaluate the best model on the test set\n",
    "test_loss = best_model.evaluate(aapl_test_sequences, aapl_test_labels)\n",
    "print(f\"Test loss of the best model: {test_loss}\")\n"
   ]
  },
  {
   "cell_type": "code",
   "execution_count": 292,
   "metadata": {},
   "outputs": [
    {
     "name": "stdout",
     "output_type": "stream",
     "text": [
      "\u001b[1m14/14\u001b[0m \u001b[32m━━━━━━━━━━━━━━━━━━━━\u001b[0m\u001b[37m\u001b[0m \u001b[1m1s\u001b[0m 43ms/step\n",
      "Root Mean Squared Error (RMSE): 3109.01237124091\n",
      "R-squared (R²): 0.9827746707658727\n",
      "Accuracy (within 5% tolerance): 92.69%\n",
      "Mean Squared Error (MSE): 9665957.924529025\n",
      "Mean Absolute Percentage Error (MAPE): 2.06%\n"
     ]
    }
   ],
   "source": [
    "from sklearn.metrics import mean_squared_error, r2_score\n",
    "import numpy as np\n",
    "\n",
    "# 1. Predict using the best model\n",
    "predictions_scaled = best_model.predict(aapl_test_sequences)\n",
    "\n",
    "# 2. Inverse transform the predictions and actual values (to get them back to the original scale)\n",
    "# Only the 'Price' column needs to be inverse transformed, so we select the correct part of the scaler\n",
    "predictions = scaler.inverse_transform(np.concatenate([predictions_scaled, np.zeros((predictions_scaled.shape[0], 2))], axis=1))[:, 0]\n",
    "actuals = scaler.inverse_transform(np.concatenate([aapl_test_labels, np.zeros((aapl_test_labels.shape[0], 2))], axis=1))[:, 0]\n",
    "\n",
    "# 3. Calculate RMSE\n",
    "rmse = np.sqrt(mean_squared_error(actuals, predictions))\n",
    "print(f\"Root Mean Squared Error (RMSE): {rmse}\")\n",
    "\n",
    "# 4. Calculate MSE\n",
    "r_squared = r2_score(actuals, predictions)\n",
    "print(f\"R-squared (R²): {r_squared}\")\n",
    "\n",
    "# 5. Optional: Calculate a proxy for accuracy (within 5% tolerance)\n",
    "tolerance = 0.05 * actuals  # 5% of actual values\n",
    "accuracy = np.mean(np.abs(predictions - actuals) < tolerance)\n",
    "print(f\"Accuracy (within 5% tolerance): {accuracy * 100:.2f}%\")\n",
    "\n",
    "# 6. Calculate R-squared (R²)\n",
    "mse = mean_squared_error(actuals, predictions)\n",
    "print(f\"Mean Squared Error (MSE): {mse}\")\n",
    "\n",
    "# 7. Calculate Mean Absolute Percentage Error (MAPE)\n",
    "mape = np.mean(np.abs((actuals - predictions) / actuals)) * 100\n",
    "print(f\"Mean Absolute Percentage Error (MAPE): {mape:.2f}%\")\n",
    "\n"
   ]
  },
  {
   "cell_type": "code",
   "execution_count": 293,
   "metadata": {},
   "outputs": [
    {
     "data": {
      "image/png": "[encoded data removed]",
      "text/plain": [
       "<Figure size 1400x800 with 1 Axes>"
      ]
     },
     "metadata": {},
     "output_type": "display_data"
    }
   ],
   "source": [
    "import matplotlib.pyplot as plt\n",
    "import numpy as np\n",
    "\n",
    "# Plot predictions vs actuals\n",
    "plt.figure(figsize=(14, 8))\n",
    "\n",
    "# Plot actual prices\n",
    "plt.plot(actuals, label='Actual Prices', color='blue')\n",
    "\n",
    "# Plot predicted prices\n",
    "plt.plot(predictions, label='Predicted Prices', color='red')\n",
    "\n",
    "# Add title and labels\n",
    "plt.title('FPT Stock Price Prediction vs Actual')\n",
    "plt.xlabel('Time')\n",
    "plt.ylabel('Price')\n",
    "\n",
    "# Add a legend to differentiate the two lines\n",
    "plt.legend()\n",
    "\n",
    "# Display the plot\n",
    "plt.show()\n"
   ]
  },
  {
   "cell_type": "code",
   "execution_count": 294,
   "metadata": {},
   "outputs": [
    {
     "name": "stdout",
     "output_type": "stream",
     "text": [
      "\u001b[1m14/14\u001b[0m \u001b[32m━━━━━━━━━━━━━━━━━━━━\u001b[0m\u001b[37m\u001b[0m \u001b[1m0s\u001b[0m 26ms/step\n",
      "        Price  MA30 Before Diff  MA90 Before Diff\n",
      "0    0.632918          0.687905          0.794889\n",
      "1    0.634946          0.690689          0.793614\n",
      "2    0.629894          0.692645          0.792240\n",
      "3    0.636962          0.694676          0.790936\n",
      "4    0.668245          0.698400          0.790053\n",
      "..        ...               ...               ...\n",
      "419  1.409713          1.545657          1.768604\n",
      "420  1.426315          1.548309          1.770054\n",
      "421  1.418014          1.551094          1.770713\n",
      "422  1.402598          1.551979          1.771388\n",
      "423  1.409713          1.552686          1.771883\n",
      "\n",
      "[424 rows x 3 columns]\n"
     ]
    }
   ],
   "source": [
    "import pandas as pd\n",
    "import matplotlib.pyplot as plt\n",
    "from datetime import datetime\n",
    "\n",
    "# 1. Predict using the best model\n",
    "predictions_scaled = best_model.predict(aapl_test_sequences)\n",
    "\n",
    "# 2. Inverse transform the predictions and actual values (to get them back to the original scale)\n",
    "# Only the 'Price' column needs to be inverse transformed, so we select the correct part of the scaler\n",
    "predictions = scaler.inverse_transform(np.concatenate([predictions_scaled, np.zeros((predictions_scaled.shape[0], 2))], axis=1))[:, 0]\n",
    "actuals = scaler.inverse_transform(np.concatenate([aapl_test_labels, np.zeros((aapl_test_labels.shape[0], 2))], axis=1))[:, 0]\n",
    "\n",
    "# 3. Align the 'Date' column with the predictions\n",
    "# Skip the first 60 rows in the test set as they don't have enough data for sequence generation\n",
    "aligned_test_full = aapl_test_full.iloc[60:].reset_index(drop=True)\n",
    "print(aligned_test_full)\n",
    "# # Add predictions and actual values to the aligned test set\n",
    "# aligned_test_full['Predicted Price'] = predictions\n",
    "# aligned_test_full['Actual Price'] = actuals\n",
    "\n",
    "# # Create 'Year' column by extracting year from 'Date'\n",
    "# aligned_test_full['Date'] = pd.to_datetime(aligned_test_full['Date'])\n",
    "# aligned_test_full['Year'] = aligned_test_full['Date'].dt.year\n",
    "\n",
    "# # 4. Plot the predictions vs actuals by year (e.g., 2023, 2024)\n",
    "# def plot_predictions_by_year(df, year):\n",
    "#     plt.figure(figsize=(10, 6))\n",
    "#     yearly_data = df[df['Year'] == year]\n",
    "#     plt.plot(yearly_data['Date'], yearly_data['Actual Price'], label='Actual Price', color='blue')\n",
    "#     plt.plot(yearly_data['Date'], yearly_data['Predicted Price'], label='Predicted Price', color='red', linestyle='--')\n",
    "#     plt.title(f'Actual vs Predicted Prices in {year}')\n",
    "#     plt.xlabel('Date')\n",
    "#     plt.ylabel('Price')\n",
    "#     plt.legend()\n",
    "#     plt.show()\n",
    "\n",
    "# # Example: Plot for 2023 and 2024\n",
    "# plot_predictions_by_year(aligned_test_full, 2023)\n",
    "# plot_predictions_by_year(aligned_test_full, 2024)\n",
    "\n",
    "# # 5. Predict future values for 2025\n",
    "# # Get the last sequence from 2024 data to predict 2025\n",
    "# last_sequence = aapl_test_sequences[-1:]  # Last sequence in the test set\n",
    "# future_predictions = []\n",
    "\n",
    "# # Generate predictions for 2025 (let's assume 365 days into the future)\n",
    "# for _ in range(365):\n",
    "#     next_prediction = best_model.predict(last_sequence)\n",
    "#     future_predictions.append(next_prediction[0, 0])  # Append the prediction\n",
    "#     next_sequence = np.append(last_sequence[:, 1:, :], [[next_prediction[0]]], axis=1)  # Shift and append\n",
    "\n",
    "# # Convert the future predictions to the original scale\n",
    "# future_predictions = scaler.inverse_transform(np.concatenate([np.array(future_predictions).reshape(-1, 1), np.zeros((365, 2))], axis=1))[:, 0]\n",
    "\n",
    "# # Generate future dates for 2025 (assuming daily predictions)\n",
    "# start_date = aligned_test_full['Date'].max() + pd.DateOffset(1)\n",
    "# future_dates = pd.date_range(start=start_date, periods=365, freq='D')\n",
    "\n",
    "# # Create a DataFrame for 2025 predictions\n",
    "# future_df = pd.DataFrame({'Date': future_dates, 'Predicted Price': future_predictions})\n",
    "\n",
    "# # 6. Plot the predictions for 2025\n",
    "# plt.figure(figsize=(10, 6))\n",
    "# plt.plot(future_df['Date'], future_df['Predicted Price'], label='Predicted Price (2025)', color='green')\n",
    "# plt.title('Predicted Prices for 2025')\n",
    "# plt.xlabel('Date')\n",
    "# plt.ylabel('Price')\n",
    "# plt.legend()\n",
    "# plt.show()\n"
   ]
  }
 ],
 "metadata": {
  "kernelspec": {
   "display_name": "Python 3",
   "language": "python",
   "name": "python3"
  },
  "language_info": {
   "codemirror_mode": {
    "name": "ipython",
    "version": 3
   },
   "file_extension": ".py",
   "mimetype": "text/x-python",
   "name": "python",
   "nbconvert_exporter": "python",
   "pygments_lexer": "ipython3",
   "version": "3.12.5"
  }
 },
 "nbformat": 4,
 "nbformat_minor": 2
}
