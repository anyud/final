{
 "cells": [
  {
   "cell_type": "code",
   "execution_count": 1,
   "metadata": {},
   "outputs": [],
   "source": [
    "import pandas as pd\n",
    "import numpy as np\n",
    "import matplotlib.pyplot as plt\n",
    "from statsmodels.tsa.stattools import adfuller\n",
    "from statsmodels.tsa.arima.model import ARIMA\n",
    "from sklearn.metrics import mean_squared_error\n",
    "from statsmodels.tsa.stattools import adfuller"
   ]
  },
  {
   "cell_type": "code",
   "execution_count": 7,
   "metadata": {},
   "outputs": [],
   "source": [
    "# Load all CSV files\n",
    "fpt_data = pd.read_csv('D:\\\\Github anyud\\\\final\\\\Data_stock\\\\FPT Historical Data.csv')\n",
    "googl_data = pd.read_csv('D:\\\\Github anyud\\\\final\\\\Data_stock\\\\GOOGL Historical Data.csv')\n",
    "aapl_data = pd.read_csv('D:\\\\Github anyud\\\\final\\\\Data_stock\\\\AAPL Historical Data.csv')\n",
    "acb_data = pd.read_csv('D:\\\\Github anyud\\\\final\\\\Data_stock\\\\ACB Historical Data.csv')\n",
    "bid_data = pd.read_csv('D:\\\\Github anyud\\\\final\\\\Data_stock\\\\BID Historical Data.csv')"
   ]
  },
  {
   "cell_type": "code",
   "execution_count": 8,
   "metadata": {},
   "outputs": [],
   "source": [
    "def preprocess_stock_data(df):\n",
    "    # Convert Date column to datetime\n",
    "    df['Date'] = pd.to_datetime(df['Date'], format='%m/%d/%Y')\n",
    "    \n",
    "    # Clean Price column and convert to float (remove commas if present)\n",
    "    df['Price'] = df['Price'].replace(',', '', regex=True).astype(float)\n",
    "    \n",
    "    # Sort by date to ensure time order\n",
    "    df = df.sort_values(by='Date')\n",
    "    \n",
    "    # Set Date as the index\n",
    "    df.set_index('Date', inplace=True)\n",
    "    \n",
    "    return df[['Price']]\n",
    "\n",
    "# Apply preprocessing to each stock data\n",
    "aapl_clean = preprocess_stock_data(aapl_data)\n",
    "acb_clean = preprocess_stock_data(acb_data)\n",
    "bid_clean = preprocess_stock_data(bid_data)\n",
    "fpt_clean = preprocess_stock_data(fpt_data)\n",
    "googl_clean = preprocess_stock_data(googl_data)"
   ]
  },
  {
   "cell_type": "code",
   "execution_count": 14,
   "metadata": {},
   "outputs": [
    {
     "name": "stdout",
     "output_type": "stream",
     "text": [
      "             Price\n",
      "Date              \n",
      "2015-01-02   26.48\n",
      "2015-01-05   25.97\n",
      "2015-01-06   25.33\n",
      "2015-01-07   25.26\n",
      "2015-01-08   25.35\n",
      "...            ...\n",
      "2024-09-05  157.24\n",
      "2024-09-06  150.92\n",
      "2024-09-09  148.71\n",
      "2024-09-10  148.66\n",
      "2024-09-11  151.16\n",
      "\n",
      "[2440 rows x 1 columns]\n"
     ]
    }
   ],
   "source": [
    "print(googl_clean)"
   ]
  }
 ],
 "metadata": {
  "kernelspec": {
   "display_name": "Python 3",
   "language": "python",
   "name": "python3"
  },
  "language_info": {
   "codemirror_mode": {
    "name": "ipython",
    "version": 3
   },
   "file_extension": ".py",
   "mimetype": "text/x-python",
   "name": "python",
   "nbconvert_exporter": "python",
   "pygments_lexer": "ipython3",
   "version": "3.12.5"
  }
 },
 "nbformat": 4,
 "nbformat_minor": 2
}
