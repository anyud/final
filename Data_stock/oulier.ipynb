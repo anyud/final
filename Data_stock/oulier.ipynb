{
 "cells": [
  {
   "cell_type": "code",
   "execution_count": 2,
   "metadata": {},
   "outputs": [],
   "source": [
    "import pandas as pd\n",
    "from scipy import stats\n",
    "\n"
   ]
  },
  {
   "cell_type": "code",
   "execution_count": 1,
   "metadata": {},
   "outputs": [
    {
     "ename": "NameError",
     "evalue": "name 'pd' is not defined",
     "output_type": "error",
     "traceback": [
      "\u001b[1;31m---------------------------------------------------------------------------\u001b[0m",
      "\u001b[1;31mNameError\u001b[0m                                 Traceback (most recent call last)",
      "Cell \u001b[1;32mIn[1], line 1\u001b[0m\n\u001b[1;32m----> 1\u001b[0m acb_data \u001b[38;5;241m=\u001b[39m \u001b[43mpd\u001b[49m\u001b[38;5;241m.\u001b[39mread_csv(\u001b[38;5;124m\"\u001b[39m\u001b[38;5;124mD:\u001b[39m\u001b[38;5;130;01m\\\\\u001b[39;00m\u001b[38;5;124mGithub anyud\u001b[39m\u001b[38;5;130;01m\\\\\u001b[39;00m\u001b[38;5;124mfinal\u001b[39m\u001b[38;5;130;01m\\\\\u001b[39;00m\u001b[38;5;124mData_stock\u001b[39m\u001b[38;5;130;01m\\\\\u001b[39;00m\u001b[38;5;124mACB Historical Data.csv\u001b[39m\u001b[38;5;124m\"\u001b[39m)\n\u001b[0;32m      2\u001b[0m aapl_data \u001b[38;5;241m=\u001b[39m pd\u001b[38;5;241m.\u001b[39mread_csv(\u001b[38;5;124m'\u001b[39m\u001b[38;5;124mD:\u001b[39m\u001b[38;5;130;01m\\\\\u001b[39;00m\u001b[38;5;124mGithub anyud\u001b[39m\u001b[38;5;130;01m\\\\\u001b[39;00m\u001b[38;5;124mfinal\u001b[39m\u001b[38;5;130;01m\\\\\u001b[39;00m\u001b[38;5;124mData_stock\u001b[39m\u001b[38;5;130;01m\\\\\u001b[39;00m\u001b[38;5;124mAAPL Historical Data.csv\u001b[39m\u001b[38;5;124m'\u001b[39m)\n\u001b[0;32m      3\u001b[0m bid_data \u001b[38;5;241m=\u001b[39m pd\u001b[38;5;241m.\u001b[39mread_csv(\u001b[38;5;124m'\u001b[39m\u001b[38;5;124mD:\u001b[39m\u001b[38;5;130;01m\\\\\u001b[39;00m\u001b[38;5;124mGithub anyud\u001b[39m\u001b[38;5;130;01m\\\\\u001b[39;00m\u001b[38;5;124mfinal\u001b[39m\u001b[38;5;130;01m\\\\\u001b[39;00m\u001b[38;5;124mData_stock\u001b[39m\u001b[38;5;130;01m\\\\\u001b[39;00m\u001b[38;5;124mBID Historical Data.csv\u001b[39m\u001b[38;5;124m'\u001b[39m)\n",
      "\u001b[1;31mNameError\u001b[0m: name 'pd' is not defined"
     ]
    }
   ],
   "source": [
    "\n",
    "acb_data = pd.read_csv(\"D:\\\\Github anyud\\\\final\\\\Data_stock\\\\ACB Historical Data.csv\")\n",
    "aapl_data = pd.read_csv('D:\\\\Github anyud\\\\final\\\\Data_stock\\\\AAPL Historical Data.csv')\n",
    "bid_data = pd.read_csv('D:\\\\Github anyud\\\\final\\\\Data_stock\\\\BID Historical Data.csv')\n",
    "fpt_data = pd.read_csv('D:\\\\Github anyud\\\\final\\\\Data_stock\\\\FPT Historical Data.csv')\n",
    "googl_data = pd.read_csv('D:\\\\Github anyud\\\\final\\\\Data_stock\\\\GOOGL Historical Data.csv')"
   ]
  },
  {
   "cell_type": "code",
   "execution_count": 5,
   "metadata": {},
   "outputs": [
    {
     "name": "stdout",
     "output_type": "stream",
     "text": [
      "ACB Outliers:\n",
      "             Date     Price   Z_score\n",
      "1376  03/19/2019  1586.400  3.031292\n",
      "1377  03/18/2019  1591.200  3.042628\n",
      "1480  10/18/2018  1651.200  3.184329\n",
      "1481  10/17/2018  1628.400  3.130482\n",
      "1482  10/16/2018  1677.600  3.246677\n",
      "1483  10/15/2018  1808.400  3.555586\n",
      "1484  10/12/2018  1645.200  3.170159\n",
      "1486  10/10/2018  1575.600  3.005785\n",
      "1487  10/09/2018  1588.800  3.036960\n",
      "1664  01/24/2018  1616.307  3.101923\n",
      "1665  01/23/2018  1709.956  3.323092\n",
      "1666  01/22/2018  1676.427  3.243907\n",
      "1675  01/09/2018  1575.842  3.006357\n",
      "1676  01/08/2018  1605.902  3.077349\n",
      "1679  01/03/2018  1639.430  3.156532\n"
     ]
    }
   ],
   "source": [
    "# Hàm phát hiện outliers dựa trên Z-score\n",
    "def detect_outliers(df, column):\n",
    "    df['Z_score'] = stats.zscore(df[column])\n",
    "    outliers = df[(df['Z_score'] > 3) | (df['Z_score'] < -3)]\n",
    "    return outliers[['Date', column, 'Z_score']]\n",
    "\n",
    "# Làm sạch dữ liệu để chuyển đổi cột 'Price' về kiểu số\n",
    "def clean_and_convert_price(df):\n",
    "    df['Price'] = pd.to_numeric(df['Price'].astype(str).str.replace(',', '').str.extract('([0-9.]+)')[0], errors='coerce')\n",
    "    return df\n",
    "\n",
    "# Áp dụng hàm làm sạch cho từng biến dữ liệu\n",
    "acb_data = clean_and_convert_price(acb_data)\n",
    "aapl_data = clean_and_convert_price(aapl_data)\n",
    "bid_data = clean_and_convert_price(bid_data)\n",
    "fpt_data = clean_and_convert_price(fpt_data)\n",
    "googl_data = clean_and_convert_price(googl_data)\n",
    "\n",
    "# Tìm outliers cho từng mã cổ phiếu\n",
    "acb_outliers = detect_outliers(acb_data, 'Price')\n",
    "aapl_outliers = detect_outliers(aapl_data, 'Price')\n",
    "bid_outliers = detect_outliers(bid_data, 'Price')\n",
    "fpt_outliers = detect_outliers(fpt_data, 'Price')\n",
    "googl_outliers = detect_outliers(googl_data, 'Price')\n",
    "\n",
    "# Hiển thị các outliers cho từng mã cổ phiếu\n",
    "print(\"ACB Outliers:\\n\", acb_outliers)\n",
    "\n",
    "\n",
    "\n"
   ]
  },
  {
   "cell_type": "code",
   "execution_count": 6,
   "metadata": {},
   "outputs": [
    {
     "name": "stdout",
     "output_type": "stream",
     "text": [
      "AAPL Outliers:\n",
      " Empty DataFrame\n",
      "Columns: [Date, Price, Z_score]\n",
      "Index: []\n"
     ]
    }
   ],
   "source": [
    "print(\"AAPL Outliers:\\n\", aapl_outliers)"
   ]
  },
  {
   "cell_type": "code",
   "execution_count": 7,
   "metadata": {},
   "outputs": [
    {
     "name": "stdout",
     "output_type": "stream",
     "text": [
      "BID Outliers:\n",
      " Empty DataFrame\n",
      "Columns: [Date, Price, Z_score]\n",
      "Index: []\n"
     ]
    }
   ],
   "source": [
    "print(\"BID Outliers:\\n\", bid_outliers)"
   ]
  },
  {
   "cell_type": "code",
   "execution_count": 8,
   "metadata": {},
   "outputs": [
    {
     "name": "stdout",
     "output_type": "stream",
     "text": [
      "FPT Outliers:\n",
      "           Date     Price   Z_score\n",
      "64  06/11/2024  146500.0  3.116739\n",
      "65  06/10/2024  144000.0  3.039958\n"
     ]
    }
   ],
   "source": [
    "print(\"FPT Outliers:\\n\", fpt_outliers)"
   ]
  },
  {
   "cell_type": "code",
   "execution_count": 9,
   "metadata": {},
   "outputs": [
    {
     "name": "stdout",
     "output_type": "stream",
     "text": [
      "GOOGL Outliers:\n",
      "             Date   Price    Z_score\n",
      "2149  02/27/2016  724.62  14.884167\n"
     ]
    }
   ],
   "source": [
    "print(\"GOOGL Outliers:\\n\", googl_outliers)"
   ]
  },
  {
   "cell_type": "code",
   "execution_count": 15,
   "metadata": {},
   "outputs": [
    {
     "name": "stdout",
     "output_type": "stream",
     "text": [
      "Tên cột trong AAPL: Index(['Price', 'Open', 'High', 'Low', 'Vol.', 'Change %', 'Z_score'], dtype='object')\n",
      "Tên cột trong ACB: Index(['Price', 'Open', 'High', 'Low', 'Vol.', 'Change %', 'Z_score'], dtype='object')\n",
      "Tên cột trong BID: Index(['Price', 'Open', 'High', 'Low', 'Vol.', 'Change %', 'Z_score'], dtype='object')\n",
      "Tên cột trong FPT: Index(['Price', 'Open', 'High', 'Low', 'Vol.', 'Change %', 'Z_score'], dtype='object')\n",
      "Tên cột trong GOOGL: Index(['Price', 'Open', 'High', 'Low', 'Vol.', 'Change %', 'Z_score'], dtype='object')\n"
     ]
    },
    {
     "ename": "KeyError",
     "evalue": "'Date'",
     "output_type": "error",
     "traceback": [
      "\u001b[1;31m---------------------------------------------------------------------------\u001b[0m",
      "\u001b[1;31mKeyError\u001b[0m                                  Traceback (most recent call last)",
      "File \u001b[1;32mc:\\Users\\ADMIN\\AppData\\Local\\Programs\\Python\\Python312\\Lib\\site-packages\\pandas\\core\\indexes\\base.py:3805\u001b[0m, in \u001b[0;36mIndex.get_loc\u001b[1;34m(self, key)\u001b[0m\n\u001b[0;32m   3804\u001b[0m \u001b[38;5;28;01mtry\u001b[39;00m:\n\u001b[1;32m-> 3805\u001b[0m     \u001b[38;5;28;01mreturn\u001b[39;00m \u001b[38;5;28;43mself\u001b[39;49m\u001b[38;5;241;43m.\u001b[39;49m\u001b[43m_engine\u001b[49m\u001b[38;5;241;43m.\u001b[39;49m\u001b[43mget_loc\u001b[49m\u001b[43m(\u001b[49m\u001b[43mcasted_key\u001b[49m\u001b[43m)\u001b[49m\n\u001b[0;32m   3806\u001b[0m \u001b[38;5;28;01mexcept\u001b[39;00m \u001b[38;5;167;01mKeyError\u001b[39;00m \u001b[38;5;28;01mas\u001b[39;00m err:\n",
      "File \u001b[1;32mindex.pyx:167\u001b[0m, in \u001b[0;36mpandas._libs.index.IndexEngine.get_loc\u001b[1;34m()\u001b[0m\n",
      "File \u001b[1;32mindex.pyx:196\u001b[0m, in \u001b[0;36mpandas._libs.index.IndexEngine.get_loc\u001b[1;34m()\u001b[0m\n",
      "File \u001b[1;32mpandas\\\\_libs\\\\hashtable_class_helper.pxi:7081\u001b[0m, in \u001b[0;36mpandas._libs.hashtable.PyObjectHashTable.get_item\u001b[1;34m()\u001b[0m\n",
      "File \u001b[1;32mpandas\\\\_libs\\\\hashtable_class_helper.pxi:7089\u001b[0m, in \u001b[0;36mpandas._libs.hashtable.PyObjectHashTable.get_item\u001b[1;34m()\u001b[0m\n",
      "\u001b[1;31mKeyError\u001b[0m: 'Date'",
      "\nThe above exception was the direct cause of the following exception:\n",
      "\u001b[1;31mKeyError\u001b[0m                                  Traceback (most recent call last)",
      "Cell \u001b[1;32mIn[15], line 19\u001b[0m\n\u001b[0;32m     16\u001b[0m \u001b[38;5;28mprint\u001b[39m(\u001b[38;5;124m\"\u001b[39m\u001b[38;5;124mTên cột trong GOOGL:\u001b[39m\u001b[38;5;124m\"\u001b[39m, googl_data\u001b[38;5;241m.\u001b[39mcolumns)\n\u001b[0;32m     18\u001b[0m \u001b[38;5;66;03m# Chuyển đổi cột 'Date' thành định dạng datetime\u001b[39;00m\n\u001b[1;32m---> 19\u001b[0m aapl_data[\u001b[38;5;124m'\u001b[39m\u001b[38;5;124mDate\u001b[39m\u001b[38;5;124m'\u001b[39m] \u001b[38;5;241m=\u001b[39m pd\u001b[38;5;241m.\u001b[39mto_datetime(\u001b[43maapl_data\u001b[49m\u001b[43m[\u001b[49m\u001b[38;5;124;43m'\u001b[39;49m\u001b[38;5;124;43mDate\u001b[39;49m\u001b[38;5;124;43m'\u001b[39;49m\u001b[43m]\u001b[49m)\n\u001b[0;32m     20\u001b[0m acb_data[\u001b[38;5;124m'\u001b[39m\u001b[38;5;124mDate\u001b[39m\u001b[38;5;124m'\u001b[39m] \u001b[38;5;241m=\u001b[39m pd\u001b[38;5;241m.\u001b[39mto_datetime(acb_data[\u001b[38;5;124m'\u001b[39m\u001b[38;5;124mDate\u001b[39m\u001b[38;5;124m'\u001b[39m])\n\u001b[0;32m     21\u001b[0m bid_data[\u001b[38;5;124m'\u001b[39m\u001b[38;5;124mDate\u001b[39m\u001b[38;5;124m'\u001b[39m] \u001b[38;5;241m=\u001b[39m pd\u001b[38;5;241m.\u001b[39mto_datetime(bid_data[\u001b[38;5;124m'\u001b[39m\u001b[38;5;124mDate\u001b[39m\u001b[38;5;124m'\u001b[39m])\n",
      "File \u001b[1;32mc:\\Users\\ADMIN\\AppData\\Local\\Programs\\Python\\Python312\\Lib\\site-packages\\pandas\\core\\frame.py:4102\u001b[0m, in \u001b[0;36mDataFrame.__getitem__\u001b[1;34m(self, key)\u001b[0m\n\u001b[0;32m   4100\u001b[0m \u001b[38;5;28;01mif\u001b[39;00m \u001b[38;5;28mself\u001b[39m\u001b[38;5;241m.\u001b[39mcolumns\u001b[38;5;241m.\u001b[39mnlevels \u001b[38;5;241m>\u001b[39m \u001b[38;5;241m1\u001b[39m:\n\u001b[0;32m   4101\u001b[0m     \u001b[38;5;28;01mreturn\u001b[39;00m \u001b[38;5;28mself\u001b[39m\u001b[38;5;241m.\u001b[39m_getitem_multilevel(key)\n\u001b[1;32m-> 4102\u001b[0m indexer \u001b[38;5;241m=\u001b[39m \u001b[38;5;28;43mself\u001b[39;49m\u001b[38;5;241;43m.\u001b[39;49m\u001b[43mcolumns\u001b[49m\u001b[38;5;241;43m.\u001b[39;49m\u001b[43mget_loc\u001b[49m\u001b[43m(\u001b[49m\u001b[43mkey\u001b[49m\u001b[43m)\u001b[49m\n\u001b[0;32m   4103\u001b[0m \u001b[38;5;28;01mif\u001b[39;00m is_integer(indexer):\n\u001b[0;32m   4104\u001b[0m     indexer \u001b[38;5;241m=\u001b[39m [indexer]\n",
      "File \u001b[1;32mc:\\Users\\ADMIN\\AppData\\Local\\Programs\\Python\\Python312\\Lib\\site-packages\\pandas\\core\\indexes\\base.py:3812\u001b[0m, in \u001b[0;36mIndex.get_loc\u001b[1;34m(self, key)\u001b[0m\n\u001b[0;32m   3807\u001b[0m     \u001b[38;5;28;01mif\u001b[39;00m \u001b[38;5;28misinstance\u001b[39m(casted_key, \u001b[38;5;28mslice\u001b[39m) \u001b[38;5;129;01mor\u001b[39;00m (\n\u001b[0;32m   3808\u001b[0m         \u001b[38;5;28misinstance\u001b[39m(casted_key, abc\u001b[38;5;241m.\u001b[39mIterable)\n\u001b[0;32m   3809\u001b[0m         \u001b[38;5;129;01mand\u001b[39;00m \u001b[38;5;28many\u001b[39m(\u001b[38;5;28misinstance\u001b[39m(x, \u001b[38;5;28mslice\u001b[39m) \u001b[38;5;28;01mfor\u001b[39;00m x \u001b[38;5;129;01min\u001b[39;00m casted_key)\n\u001b[0;32m   3810\u001b[0m     ):\n\u001b[0;32m   3811\u001b[0m         \u001b[38;5;28;01mraise\u001b[39;00m InvalidIndexError(key)\n\u001b[1;32m-> 3812\u001b[0m     \u001b[38;5;28;01mraise\u001b[39;00m \u001b[38;5;167;01mKeyError\u001b[39;00m(key) \u001b[38;5;28;01mfrom\u001b[39;00m \u001b[38;5;21;01merr\u001b[39;00m\n\u001b[0;32m   3813\u001b[0m \u001b[38;5;28;01mexcept\u001b[39;00m \u001b[38;5;167;01mTypeError\u001b[39;00m:\n\u001b[0;32m   3814\u001b[0m     \u001b[38;5;66;03m# If we have a listlike key, _check_indexing_error will raise\u001b[39;00m\n\u001b[0;32m   3815\u001b[0m     \u001b[38;5;66;03m#  InvalidIndexError. Otherwise we fall through and re-raise\u001b[39;00m\n\u001b[0;32m   3816\u001b[0m     \u001b[38;5;66;03m#  the TypeError.\u001b[39;00m\n\u001b[0;32m   3817\u001b[0m     \u001b[38;5;28mself\u001b[39m\u001b[38;5;241m.\u001b[39m_check_indexing_error(key)\n",
      "\u001b[1;31mKeyError\u001b[0m: 'Date'"
     ]
    }
   ],
   "source": [
    "from statsmodels.tsa.seasonal import seasonal_decompose\n",
    "import matplotlib.pyplot as plt\n",
    "\n",
    "# Hàm để thực hiện decomposition và vẽ biểu đồ\n",
    "def plot_decomposition(data, column, label):\n",
    "    # Áp dụng seasonal_decompose\n",
    "    decomposition = seasonal_decompose(data[column], model='additive', period=30)  # Giả sử dữ liệu có tần suất hàng tháng (period=30)\n",
    "    \n",
    "    # Vẽ biểu đồ trend, seasonal, và residual\n",
    "    plt.figure(figsize=(12, 8))\n",
    "\n",
    "    plt.subplot(311)\n",
    "    plt.plot(decomposition.trend)\n",
    "    plt.title(f'Trend - {label}')\n",
    "    \n",
    "    plt.subplot(312)\n",
    "    plt.plot(decomposition.seasonal)\n",
    "    plt.title(f'Seasonal - {label}')\n",
    "    \n",
    "    plt.subplot(313)\n",
    "    plt.plot(decomposition.resid)\n",
    "    plt.title(f'Residual - {label}')\n",
    "    \n",
    "    plt.tight_layout()\n",
    "    plt.show()\n",
    "    \n",
    "# Chuyển đổi cột 'Date' thành định dạng datetime\n",
    "aapl_data['Date'] = pd.to_datetime(aapl_data['Date'])\n",
    "acb_data['Date'] = pd.to_datetime(acb_data['Date'])\n",
    "bid_data['Date'] = pd.to_datetime(bid_data['Date'])\n",
    "fpt_data['Date'] = pd.to_datetime(fpt_data['Date'])\n",
    "googl_data['Date'] = pd.to_datetime(googl_data['Date'])\n",
    "\n",
    "# Đặt cột 'Date' làm chỉ mục (index)\n",
    "aapl_data.set_index('Date', inplace=True)\n",
    "acb_data.set_index('Date', inplace=True)\n",
    "bid_data.set_index('Date', inplace=True)\n",
    "fpt_data.set_index('Date', inplace=True)\n",
    "googl_data.set_index('Date', inplace=True)\n",
    "\n",
    "# Thực hiện decomposition và vẽ biểu đồ cho từng mã cổ phiếu\n",
    "plot_decomposition(aapl_data, 'Price', 'AAPL')\n",
    "plot_decomposition(acb_data, 'Price', 'ACB')\n",
    "plot_decomposition(bid_data, 'Price', 'BID')\n",
    "plot_decomposition(fpt_data, 'Price', 'FPT')\n",
    "plot_decomposition(googl_data, 'Price', 'GOOGL')"
   ]
  }
 ],
 "metadata": {
  "kernelspec": {
   "display_name": "Python 3",
   "language": "python",
   "name": "python3"
  },
  "language_info": {
   "codemirror_mode": {
    "name": "ipython",
    "version": 3
   },
   "file_extension": ".py",
   "mimetype": "text/x-python",
   "name": "python",
   "nbconvert_exporter": "python",
   "pygments_lexer": "ipython3",
   "version": "3.12.5"
  }
 },
 "nbformat": 4,
 "nbformat_minor": 2
}
